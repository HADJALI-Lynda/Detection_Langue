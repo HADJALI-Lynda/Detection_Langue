{
 "cells": [
  {
   "cell_type": "code",
   "execution_count": 1,
   "id": "0fdfa9b3",
   "metadata": {},
   "outputs": [],
   "source": [
    "import sparknlp"
   ]
  },
  {
   "cell_type": "code",
   "execution_count": 2,
   "id": "c7ff41ec",
   "metadata": {},
   "outputs": [],
   "source": [
    "spark = sparknlp.start() "
   ]
  },
  {
   "cell_type": "code",
   "execution_count": 3,
   "id": "0da48a19",
   "metadata": {},
   "outputs": [],
   "source": [
    "from sparknlp.base import *"
   ]
  },
  {
   "cell_type": "code",
   "execution_count": 4,
   "id": "127f3f0b",
   "metadata": {},
   "outputs": [],
   "source": [
    "from sparknlp.annotator import *"
   ]
  },
  {
   "cell_type": "code",
   "execution_count": 5,
   "id": "7156a4e7",
   "metadata": {},
   "outputs": [],
   "source": [
    "from pyspark.ml import Pipeline"
   ]
  },
  {
   "cell_type": "code",
   "execution_count": 6,
   "id": "1b845928",
   "metadata": {},
   "outputs": [],
   "source": [
    "import pandas as pd"
   ]
  },
  {
   "cell_type": "code",
   "execution_count": 7,
   "id": "8a18cb46",
   "metadata": {},
   "outputs": [],
   "source": [
    "dataset =spark.read.format('json').options(header=True, inferSchema=True).load(\"dataset_final.json\")"
   ]
  },
  {
   "cell_type": "code",
   "execution_count": 8,
   "id": "16bcc8ba",
   "metadata": {},
   "outputs": [
    {
     "data": {
      "text/plain": [
       "pyspark.sql.dataframe.DataFrame"
      ]
     },
     "execution_count": 8,
     "metadata": {},
     "output_type": "execute_result"
    }
   ],
   "source": [
    "type(dataset)"
   ]
  },
  {
   "cell_type": "code",
   "execution_count": 10,
   "id": "619684fe",
   "metadata": {},
   "outputs": [],
   "source": [
    "data= dataset.drop(\"text_cleaned\",\"text_token\")"
   ]
  },
  {
   "cell_type": "code",
   "execution_count": null,
   "id": "9be81ea9",
   "metadata": {},
   "outputs": [],
   "source": []
  },
  {
   "cell_type": "code",
   "execution_count": null,
   "id": "665757e8",
   "metadata": {},
   "outputs": [],
   "source": []
  },
  {
   "cell_type": "code",
   "execution_count": null,
   "id": "0bca4f50",
   "metadata": {},
   "outputs": [],
   "source": []
  }
 ],
 "metadata": {
  "kernelspec": {
   "display_name": "Python 3",
   "language": "python",
   "name": "python3"
  },
  "language_info": {
   "codemirror_mode": {
    "name": "ipython",
    "version": 3
   },
   "file_extension": ".py",
   "mimetype": "text/x-python",
   "name": "python",
   "nbconvert_exporter": "python",
   "pygments_lexer": "ipython3",
   "version": "3.8.8"
  }
 },
 "nbformat": 4,
 "nbformat_minor": 5
}
