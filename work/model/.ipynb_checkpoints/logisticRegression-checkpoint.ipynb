{
 "cells": [
  {
   "cell_type": "code",
   "execution_count": 1,
   "id": "93e8995c",
   "metadata": {},
   "outputs": [],
   "source": [
    "import pandas as pd\n",
    "from pyspark.sql import SparkSession\n",
    "spark = SparkSession.builder.getOrCreate()"
   ]
  },
  {
   "cell_type": "code",
   "execution_count": 2,
   "id": "5e5b2dac",
   "metadata": {},
   "outputs": [],
   "source": [
    "from pyspark.sql.functions import *\n",
    "from pyspark.sql.types import *\n",
    "import numpy as np\n",
    "from pyspark.sql.functions import col\n",
    "from pyspark.sql.functions import lit"
   ]
  },
  {
   "cell_type": "code",
   "execution_count": 3,
   "id": "f51a462f",
   "metadata": {},
   "outputs": [],
   "source": [
    "from pyspark.sql.types import IntegerType\n",
    "from pyspark.ml.feature import *"
   ]
  },
  {
   "cell_type": "code",
   "execution_count": 4,
   "id": "8ea859a1",
   "metadata": {},
   "outputs": [],
   "source": [
    "from pyspark.ml.feature import StopWordsRemover\n",
    "from pyspark.ml.classification import *\n",
    "from pyspark.ml.evaluation import *"
   ]
  },
  {
   "cell_type": "code",
   "execution_count": 5,
   "id": "975a29da",
   "metadata": {},
   "outputs": [],
   "source": [
    "from pyspark.ml import Pipeline"
   ]
  },
  {
   "cell_type": "code",
   "execution_count": 6,
   "id": "04af1738",
   "metadata": {},
   "outputs": [],
   "source": [
    "dataset =spark.read.format('json').options(header=True, inferSchema=True).load(\"dataset_final.json\")"
   ]
  },
  {
   "cell_type": "code",
   "execution_count": 7,
   "id": "588d818e",
   "metadata": {},
   "outputs": [],
   "source": [
    "ngram=NGram(n=2, inputCol=\"text_cleaned\", outputCol=\"text_ngram\")\n",
    "hashingtf=HashingTF(inputCol=\"text_ngram\", outputCol=\"text_hashing\")\n",
    "idf = IDF(minDocFreq = 3, inputCol=\"text_hashing\", outputCol=\"text_idf\")\n",
    "lr = LogisticRegression(featuresCol=\"text_idf\", labelCol=\"label\")\n",
    "train,test = dataset.randomSplit([0.8,0.2])"
   ]
  },
  {
   "cell_type": "code",
   "execution_count": 8,
   "id": "0202dcb2",
   "metadata": {},
   "outputs": [],
   "source": [
    "pipeline = Pipeline(stages=[ngram,hashingtf,idf,lr])"
   ]
  },
  {
   "cell_type": "code",
   "execution_count": 9,
   "id": "2d610a9b",
   "metadata": {},
   "outputs": [],
   "source": [
    "model = pipeline.fit(train)"
   ]
  },
  {
   "cell_type": "code",
   "execution_count": 10,
   "id": "7a4b9e4f",
   "metadata": {},
   "outputs": [],
   "source": [
    "model_result=model.transform(test)"
   ]
  },
  {
   "cell_type": "code",
   "execution_count": 11,
   "id": "90868bb3",
   "metadata": {},
   "outputs": [],
   "source": [
    "evaluator=BinaryClassificationEvaluator(rawPredictionCol=\"rawPrediction\",labelCol=\"label\", metricName=\"areaUnderPR\")"
   ]
  },
  {
   "cell_type": "code",
   "execution_count": 12,
   "id": "2b353140",
   "metadata": {},
   "outputs": [
    {
     "data": {
      "text/plain": [
       "0.9718963644904461"
      ]
     },
     "execution_count": 12,
     "metadata": {},
     "output_type": "execute_result"
    }
   ],
   "source": [
    "evaluator.evaluate(model_result)"
   ]
  },
  {
   "cell_type": "code",
   "execution_count": 26,
   "id": "93438e22",
   "metadata": {},
   "outputs": [
    {
     "data": {
      "text/plain": [
       "pyspark.ml.pipeline.PipelineModel"
      ]
     },
     "execution_count": 26,
     "metadata": {},
     "output_type": "execute_result"
    }
   ],
   "source": [
    "type(model)"
   ]
  },
  {
   "cell_type": "code",
   "execution_count": 29,
   "id": "6c218eea",
   "metadata": {},
   "outputs": [],
   "source": [
    "model.save(\"logisticregressionmodel\")"
   ]
  }
 ],
 "metadata": {
  "kernelspec": {
   "display_name": "Python 3",
   "language": "python",
   "name": "python3"
  },
  "language_info": {
   "codemirror_mode": {
    "name": "ipython",
    "version": 3
   },
   "file_extension": ".py",
   "mimetype": "text/x-python",
   "name": "python",
   "nbconvert_exporter": "python",
   "pygments_lexer": "ipython3",
   "version": "3.8.8"
  }
 },
 "nbformat": 4,
 "nbformat_minor": 5
}
