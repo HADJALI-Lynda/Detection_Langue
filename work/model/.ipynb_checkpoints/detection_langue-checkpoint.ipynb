{
 "cells": [
  {
   "cell_type": "code",
   "execution_count": 1,
   "id": "d0f0b48a",
   "metadata": {},
   "outputs": [],
   "source": [
    "import pandas as pd\n",
    "from pyspark.sql import SparkSession\n",
    "spark = SparkSession.builder.getOrCreate()"
   ]
  },
  {
   "cell_type": "code",
   "execution_count": 2,
   "id": "4d95c1bf",
   "metadata": {},
   "outputs": [],
   "source": [
    "from pyspark.sql.functions import *\n",
    "from pyspark.sql.types import *\n",
    "import numpy as np\n",
    "from pyspark.sql.functions import col\n",
    "from pyspark.sql.functions import lit"
   ]
  },
  {
   "cell_type": "code",
   "execution_count": 3,
   "id": "ac744f21",
   "metadata": {},
   "outputs": [],
   "source": [
    "#https://www.kaggle.com/apachefranklin/multilingual-translation-experimentation/data?select=english_french.csv\n",
    "df = spark.read.format('csv').options(header=True, inferSchema=True).load(\"dataset.csv\")"
   ]
  },
  {
   "cell_type": "code",
   "execution_count": 4,
   "id": "37bb563d",
   "metadata": {},
   "outputs": [],
   "source": [
    "#créer un dataframe qui contient la colenne \"English\"\n",
    "df_en =df.select(\"English\")\n",
    "df_en=df_en.dropna()"
   ]
  },
  {
   "cell_type": "code",
   "execution_count": 5,
   "id": "e95e7943",
   "metadata": {},
   "outputs": [],
   "source": [
    "#créer un dataframe qui contient la colenne \"French\"\n",
    "df_fr =df.select(\"French\")\n",
    "df_fr=df_fr.dropna()"
   ]
  },
  {
   "cell_type": "code",
   "execution_count": 6,
   "id": "1f361452",
   "metadata": {},
   "outputs": [],
   "source": [
    "#renommer les colenne English et French par text\n",
    "data_eng = df_en.select(col(\"English\").alias(\"text\"))\n",
    "data_fr = df_fr.select(col(\"French\").alias(\"text\"))"
   ]
  },
  {
   "cell_type": "code",
   "execution_count": 7,
   "id": "7ca8b505",
   "metadata": {},
   "outputs": [],
   "source": [
    "#ajouter une colonne label qui egale 1 (classe anglais)\n",
    "df_en= data_eng.withColumn(\"label\", lit(1))"
   ]
  },
  {
   "cell_type": "code",
   "execution_count": 8,
   "id": "ef5584d8",
   "metadata": {},
   "outputs": [],
   "source": [
    "#ajouter une colonne label qui egale 0 (classe français)\n",
    "df_fr = data_fr.withColumn(\"label\", lit(0))"
   ]
  },
  {
   "cell_type": "code",
   "execution_count": 28,
   "id": "c227c6a2",
   "metadata": {},
   "outputs": [
    {
     "data": {
      "text/plain": [
       "DataFrame[summary: string, text: string, label: string]"
      ]
     },
     "execution_count": 28,
     "metadata": {},
     "output_type": "execute_result"
    }
   ],
   "source": [
    "df_fr = df_fr.withColumn(\"label\",col(\"label\").cast(\"Integer\"))\n",
    "df_en = df_en.withColumn(\"label\",col(\"label\").cast(Integer))"
   ]
  },
  {
   "cell_type": "code",
   "execution_count": 24,
   "id": "6038199a",
   "metadata": {},
   "outputs": [],
   "source": [
    "#on divise le dataframe francais en ensemble de \n",
    "train_fr,test_fr = df_fr.randomSplit([0.7,0.3])\n",
    "train_en,test_en = df_en.randomSplit([0.7,0.3])"
   ]
  },
  {
   "cell_type": "code",
   "execution_count": 25,
   "id": "14ab1cb4",
   "metadata": {},
   "outputs": [],
   "source": [
    "#concatener les 2 dataframes d'entrainement\n",
    "train= train_fr.union(train_en)"
   ]
  },
  {
   "cell_type": "code",
   "execution_count": 26,
   "id": "54977af2",
   "metadata": {},
   "outputs": [],
   "source": [
    "#concatener les 2 dataframes de test\n",
    "test= test_fr.union(test_en)"
   ]
  },
  {
   "cell_type": "code",
   "execution_count": 27,
   "id": "73844180",
   "metadata": {},
   "outputs": [
    {
     "data": {
      "text/plain": [
       "DataFrame[summary: string, text: string, label: string]"
      ]
     },
     "execution_count": 27,
     "metadata": {},
     "output_type": "execute_result"
    }
   ],
   "source": [
    "test.describe()"
   ]
  },
  {
   "cell_type": "code",
   "execution_count": null,
   "id": "fc66bb80",
   "metadata": {},
   "outputs": [],
   "source": []
  },
  {
   "cell_type": "code",
   "execution_count": null,
   "id": "aac2c9fc",
   "metadata": {},
   "outputs": [],
   "source": []
  },
  {
   "cell_type": "code",
   "execution_count": null,
   "id": "10b0e6a6",
   "metadata": {},
   "outputs": [],
   "source": []
  },
  {
   "cell_type": "code",
   "execution_count": null,
   "id": "d0d9d7da",
   "metadata": {},
   "outputs": [],
   "source": []
  }
 ],
 "metadata": {
  "kernelspec": {
   "display_name": "Python 3",
   "language": "python",
   "name": "python3"
  },
  "language_info": {
   "codemirror_mode": {
    "name": "ipython",
    "version": 3
   },
   "file_extension": ".py",
   "mimetype": "text/x-python",
   "name": "python",
   "nbconvert_exporter": "python",
   "pygments_lexer": "ipython3",
   "version": "3.8.8"
  }
 },
 "nbformat": 4,
 "nbformat_minor": 5
}
