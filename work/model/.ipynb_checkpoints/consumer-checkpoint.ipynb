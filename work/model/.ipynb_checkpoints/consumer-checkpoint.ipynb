{
 "cells": [
  {
   "cell_type": "code",
   "execution_count": 1,
   "id": "9d8b8d08",
   "metadata": {},
   "outputs": [],
   "source": [
    "import pandas as pd\n",
    "from pyspark.sql import SparkSession\n",
    "spark = SparkSession.builder.getOrCreate()"
   ]
  },
  {
   "cell_type": "code",
   "execution_count": 2,
   "id": "fe45059e",
   "metadata": {},
   "outputs": [],
   "source": [
    "from pyspark.ml.pipeline import PipelineModel\n",
    "from pyspark.ml.feature import *\n",
    "from kafka import KafkaConsumer\n",
    "import json\n",
    "from pyspark.sql import Row"
   ]
  },
  {
   "cell_type": "code",
   "execution_count": 3,
   "id": "4c44b24e",
   "metadata": {},
   "outputs": [],
   "source": [
    "model = PipelineModel.load(\"logisticregressionmodel\")"
   ]
  },
  {
   "cell_type": "code",
   "execution_count": null,
   "id": "3b13449e",
   "metadata": {
    "scrolled": false
   },
   "outputs": [
    {
     "name": "stdout",
     "output_type": "stream",
     "text": [
      "c'est anglais\n",
      "c'est anglais\n",
      "c'est anglais\n",
      "c'est anglais\n"
     ]
    }
   ],
   "source": [
    "c = KafkaConsumer('text', bootstrap_servers=['kafka:9093'], api_version=(2,6,0))\n",
    "\n",
    "def process_msg(msg):\n",
    "    msg.offset\n",
    "    json.loads(msg.value)\n",
    "    return msg.value\n",
    "\n",
    "for msg in c:\n",
    "    test = process_msg(msg)\n",
    "    x= [json.loads(test)]\n",
    "    df = spark.createDataFrame(x,[\"text\"])\n",
    "    tokenizer_df = Tokenizer(inputCol=\"text\", outputCol=\"text_cleaned\") \n",
    "    token_df=tokenizer_df.transform(df)\n",
    "    result=model.transform(token_df)\n",
    "    prediction = result[[\"prediction\"]]\n",
    "    test=prediction.collect()#collecter l'information du dataframe sous forme de rdd\n",
    "    s=test[0]\n",
    "    l=int(s.__getitem__('prediction'))\n",
    "    if l == 1 :\n",
    "        print(\"c'est anglais\")"
   ]
  },
  {
   "cell_type": "code",
   "execution_count": null,
   "id": "f023f52b",
   "metadata": {},
   "outputs": [],
   "source": [
    "model_result=model.transform(test)"
   ]
  },
  {
   "cell_type": "code",
   "execution_count": null,
   "id": "4ac465dc",
   "metadata": {},
   "outputs": [],
   "source": [
    "df.select(\"text\",\"prediction\").show()"
   ]
  },
  {
   "cell_type": "code",
   "execution_count": null,
   "id": "5c9b82a6",
   "metadata": {},
   "outputs": [],
   "source": [
    "type(test)"
   ]
  },
  {
   "cell_type": "code",
   "execution_count": null,
   "id": "7abf8a5c",
   "metadata": {},
   "outputs": [],
   "source": [
    "s=test[0]"
   ]
  },
  {
   "cell_type": "code",
   "execution_count": null,
   "id": "0f61124d",
   "metadata": {},
   "outputs": [],
   "source": []
  },
  {
   "cell_type": "code",
   "execution_count": null,
   "id": "88c94226",
   "metadata": {},
   "outputs": [],
   "source": [
    "l=s.__getitem__('prediction')"
   ]
  },
  {
   "cell_type": "code",
   "execution_count": null,
   "id": "94aa1458",
   "metadata": {},
   "outputs": [],
   "source": [
    "int(l)"
   ]
  },
  {
   "cell_type": "code",
   "execution_count": null,
   "id": "66fe780e",
   "metadata": {},
   "outputs": [],
   "source": []
  }
 ],
 "metadata": {
  "kernelspec": {
   "display_name": "Python 3",
   "language": "python",
   "name": "python3"
  },
  "language_info": {
   "codemirror_mode": {
    "name": "ipython",
    "version": 3
   },
   "file_extension": ".py",
   "mimetype": "text/x-python",
   "name": "python",
   "nbconvert_exporter": "python",
   "pygments_lexer": "ipython3",
   "version": "3.8.8"
  }
 },
 "nbformat": 4,
 "nbformat_minor": 5
}
