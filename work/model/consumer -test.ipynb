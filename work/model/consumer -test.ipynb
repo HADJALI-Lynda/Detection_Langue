{
 "cells": [
  {
   "cell_type": "code",
   "execution_count": 1,
   "id": "9d8b8d08",
   "metadata": {},
   "outputs": [],
   "source": [
    "import pandas as pd\n",
    "from pyspark.sql import SparkSession\n",
    "spark = SparkSession.builder.getOrCreate()"
   ]
  },
  {
   "cell_type": "code",
   "execution_count": 2,
   "id": "fe45059e",
   "metadata": {},
   "outputs": [],
   "source": [
    "from pyspark.ml.pipeline import PipelineModel\n",
    "from pyspark.ml.feature import *\n",
    "from kafka import KafkaConsumer\n",
    "import json\n",
    "from pyspark.sql import Row"
   ]
  },
  {
   "cell_type": "code",
   "execution_count": 3,
   "id": "4c44b24e",
   "metadata": {},
   "outputs": [],
   "source": [
    "model = PipelineModel.load(\"logisticregressionmodel\")"
   ]
  },
  {
   "cell_type": "code",
   "execution_count": null,
   "id": "3b13449e",
   "metadata": {
    "scrolled": false
   },
   "outputs": [
    {
     "name": "stdout",
     "output_type": "stream",
     "text": [
      "+--------------------+\n",
      "|                text|\n",
      "+--------------------+\n",
      "|I had the same er...|\n",
      "+--------------------+\n",
      "\n",
      "Le text est en ANGLAIS avec une probabilité de : \n",
      "0.6963726480149226\n",
      "\n",
      "\n",
      "+--------------------+\n",
      "|                text|\n",
      "+--------------------+\n",
      "|Utilisation des m...|\n",
      "+--------------------+\n",
      "\n",
      "Le text est en FRANCAIS avec une probabilité de : \n",
      "0.6065161908457711\n",
      "\n",
      "\n"
     ]
    }
   ],
   "source": [
    "c = KafkaConsumer('text', bootstrap_servers=['kafka:9093'], api_version=(2,6,0))\n",
    "\n",
    "def process_msg(msg):\n",
    "    msg.offset\n",
    "    json.loads(msg.value)\n",
    "    return msg.value\n",
    "\n",
    "for msg in c:\n",
    "    test = process_msg(msg)\n",
    "    x= [json.loads(test)]\n",
    "    df = spark.createDataFrame(x,[\"text\"])\n",
    "    \n",
    "    tokenizer_df = Tokenizer(inputCol=\"text\", outputCol=\"text_cleaned\") \n",
    "    token_df=tokenizer_df.transform(df)\n",
    "    result=model.transform(token_df)\n",
    "    \n",
    "    prediction = result[[\"prediction\"]]\n",
    "    test=prediction.collect()#collecter l'information du dataframe sous forme de rdd\n",
    "    s=test[0]\n",
    "    l=int(s.__getitem__('prediction'))\n",
    "    \n",
    "    probabilité=result[[\"probability\"]]\n",
    "    prob = probabilité.collect()\n",
    "    p=prob[0]\n",
    "    p2=p[0]\n",
    "    \n",
    "    df.show()\n",
    "    if l == 1 :\n",
    "        print(\"Le text est en ANGLAIS avec une probabilité de : \")\n",
    "        print(p2[1])\n",
    "    else:\n",
    "        print(\"Le text est en FRANCAIS avec une probabilité de : \")\n",
    "        print(p2[0])\n",
    "    print()\n",
    "    print()"
   ]
  },
  {
   "cell_type": "code",
   "execution_count": null,
   "id": "d8af07a2",
   "metadata": {},
   "outputs": [],
   "source": []
  }
 ],
 "metadata": {
  "kernelspec": {
   "display_name": "Python 3",
   "language": "python",
   "name": "python3"
  },
  "language_info": {
   "codemirror_mode": {
    "name": "ipython",
    "version": 3
   },
   "file_extension": ".py",
   "mimetype": "text/x-python",
   "name": "python",
   "nbconvert_exporter": "python",
   "pygments_lexer": "ipython3",
   "version": "3.8.8"
  }
 },
 "nbformat": 4,
 "nbformat_minor": 5
}
