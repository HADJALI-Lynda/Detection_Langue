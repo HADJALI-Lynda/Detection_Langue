{
 "cells": [
  {
   "cell_type": "markdown",
   "id": "d91ee5b7",
   "metadata": {},
   "source": [
    "# Détection de langue (fr,en)"
   ]
  },
  {
   "cell_type": "code",
   "execution_count": 1,
   "id": "ea518ecf",
   "metadata": {},
   "outputs": [],
   "source": [
    "import pandas as pd\n",
    "from pyspark.sql import SparkSession\n",
    "spark = SparkSession.builder.getOrCreate()"
   ]
  },
  {
   "cell_type": "code",
   "execution_count": 2,
   "id": "62bf48ee",
   "metadata": {},
   "outputs": [],
   "source": [
    "from pyspark.sql.functions import *\n",
    "from pyspark.sql.types import *\n",
    "import numpy as np\n",
    "from pyspark.sql.functions import col\n",
    "from pyspark.sql.functions import lit"
   ]
  },
  {
   "cell_type": "code",
   "execution_count": 3,
   "id": "e7ee2968",
   "metadata": {},
   "outputs": [],
   "source": [
    "from pyspark.sql.types import IntegerType\n",
    "from pyspark.ml.feature import *"
   ]
  },
  {
   "cell_type": "code",
   "execution_count": 4,
   "id": "fb43a289",
   "metadata": {},
   "outputs": [],
   "source": [
    "from pyspark.ml.feature import StopWordsRemover\n",
    "from pyspark.ml.classification import *\n",
    "from pyspark.ml.evaluation import *"
   ]
  },
  {
   "cell_type": "code",
   "execution_count": 5,
   "id": "3ad7a301",
   "metadata": {},
   "outputs": [],
   "source": [
    "#https://www.kaggle.com/apachefranklin/multilingual-translation-experimentation/data?select=english_french.csv\n",
    "df = spark.read.format('csv').options(header=True, inferSchema=True).load(\"dataset.csv\")"
   ]
  },
  {
   "cell_type": "code",
   "execution_count": 6,
   "id": "f0b6dfb1",
   "metadata": {},
   "outputs": [],
   "source": [
    "#créer un dataframe qui contient la colonne \"English\"\n",
    "df_en =df.select(\"English\")\n",
    "df_en=df_en.dropna()"
   ]
  },
  {
   "cell_type": "code",
   "execution_count": 7,
   "id": "e65b6034",
   "metadata": {},
   "outputs": [],
   "source": [
    "#créer un dataframe qui contient la colonne \"French\"\n",
    "df_fr =df.select(\"French\")\n",
    "df_fr=df_fr.dropna()"
   ]
  },
  {
   "cell_type": "code",
   "execution_count": 8,
   "id": "7c74e6fd",
   "metadata": {},
   "outputs": [],
   "source": [
    "#renommer les colenne English et French par text\n",
    "data_eng = df_en.select(col(\"English\").alias(\"text\"))\n",
    "data_fr = df_fr.select(col(\"French\").alias(\"text\"))"
   ]
  },
  {
   "cell_type": "code",
   "execution_count": 9,
   "id": "5a3b87bd",
   "metadata": {},
   "outputs": [],
   "source": [
    "#ajouter une colonne label qui egale 1 (classe anglais)\n",
    "df_en= data_eng.withColumn(\"label\", lit(1))"
   ]
  },
  {
   "cell_type": "code",
   "execution_count": 10,
   "id": "651f0525",
   "metadata": {},
   "outputs": [],
   "source": [
    "#ajouter une colonne label qui egale 0 (classe français)\n",
    "df_fr = data_fr.withColumn(\"label\", lit(0))"
   ]
  },
  {
   "cell_type": "code",
   "execution_count": 11,
   "id": "ddd6e30d",
   "metadata": {},
   "outputs": [],
   "source": [
    "#on tokenise les deux ensembles\n",
    "tokenizer_df_en = Tokenizer(inputCol=\"text\", outputCol=\"text_token\") \n",
    "token_df_en=tokenizer_df_en.transform(df_en)"
   ]
  },
  {
   "cell_type": "code",
   "execution_count": 12,
   "id": "d6240cb9",
   "metadata": {},
   "outputs": [],
   "source": [
    "tokenizer_df_fr = Tokenizer(inputCol=\"text\", outputCol=\"text_token\") \n",
    "token_df_fr=tokenizer_df_fr.transform(df_fr)"
   ]
  },
  {
   "cell_type": "code",
   "execution_count": 13,
   "id": "6b12a37a",
   "metadata": {
    "scrolled": true
   },
   "outputs": [],
   "source": [
    "#supprimer les stopwords\n",
    "stop_word_fr=[\".\",\",\",\" \",\"a\",\"à\",\"â\",\"abord\",\"afin\",\"ah\",\"ai\",\"aie\",\"ainsi\",\"allaient\",\"allo\",\"allô\",\"allons\",\"après\",\"assez\",\"attendu\",\"au\",\"aucun\",\"aucune\",\"aujourd\",\"aujourd'hui\",\"auquel\",\"aura\",\"auront\",\"aussi\",\"autre\",\"autres\",\"aux\",\"auxquelles\",\"auxquels\",\"avaient\",\"avais\",\"avait\",\"avant\",\"avec\",\"avoir\",\"ayant\",\"b\",\"bah\",\"beaucoup\",\"bien\",\"bigre\",\"boum\",\"bravo\",\"brrr\",\"c\",\"ça\",\"car\",\"ce\",\"ceci\",\"cela\",\"comme\",\"oui\",\"le\",\"avez\",\"celle\",\"celle-ci\",\"celle-là\",\"celles\",\"celles-ci\",\"celles-là\",\"celui\",\"celui-ci\",\"celui-là\",\"cent\",\"cependant\",\"certain\",\"certaine\",\"certaines\",\"certains\",\"certes\",\"ces\",\"cet\",\"cette\",\"ceux\",\"ceux-ci\",\"ceux-là\",\"chacun\",\"chaque\",\"cher\",\"chère\",\"chères\",\"chers\",\"chez\",\"chiche\",\"chut\",\"ci\",\"cinq\",\"cinquantaine\",\"cinquante\",\"cinquantième\",\"cinquième\",\"clac\",\"clic\",\"combien\",\"comme\",\"comment\",\"compris\",\"concernant\",\"contre\",\"couic\",\"crac\",\"d\",\"da\",\"dans\",\"de\",\"debout\",\"dedans\",\"dehors\",\"delà\",\"depuis\",\"derrière\",\"des\",\"dès\",\"désormais\",\"desquelles\",\"desquels\",\"dessous\",\"dessus\",\"deux\",\"deuxième\",\"deuxièmement\",\"devant\",\"devers\",\"devra\",\"différent\",\"différente\",\"différentes\",\"différents\",\"dire\",\"divers\",\"diverse\",\"diverses\",\"dix\",\"dix-huit\",\"dixième\",\"dix-neuf\",\"dix-sept\",\"doit\",\"doivent\",\"donc\",\"dont\",\"douze\",\"douzième\",\"dring\",\"du\",\"duquel\",\"durant\",\"e\",\"effet\",\"eh\",\"elle\",\"elle-même\",\"elles\",\"elles-mêmes\",\"en\",\"encore\",\"entre\",\"envers\",\"environ\",\"es\",\"ès\",\"est\",\"et\",\"etant\",\"étaient\",\"étais\",\"était\",\"étant\",\"etc\",\"été\",\"etre\",\"être\",\"eu\",\"euh\",\"eux\",\"eux-mêmes\",\"excepté\",\"f\",\"façon\",\"fais\",\"faisaient\",\"faisant\",\"fait\",\"feront\",\"fi\",\"flac\",\"floc\",\"font\",\"g\",\"gens\",\"h\",\"ha\",\"hé\",\"hein\",\"hélas\",\"hem\",\"hep\",\"hi\",\"ho\",\"holà\",\"hop\",\"hormis\",\"hors\",\"hou\",\"houp\",\"hue\",\"hui\",\"huit\",\"huitième\",\"hum\",\"hurrah\",\"i\",\"il\",\"ils\",\"importe\",\"j\",\"je\",\"jusqu\",\"jusque\",\"k\",\"l\",\"la\",\"là\",\"laquelle\",\"las\",\"le\",\"lequel\",\"les\",\"lès\",\"lesquelles\",\"lesquels\",\"leur\",\"leurs\",\"longtemps\",\"lorsque\",\"lui\",\"lui-même\",\"m\",\"ma\",\"maint\",\"mais\",\"malgré\",\"me\",\"même\",\"mêmes\",\"merci\",\"mes\",\"mien\",\"mienne\",\"miennes\",\"miens\",\"mille\",\"mince\",\"moi\",\"moi-même\",\"moins\",\"mon\",\"moyennant\",\"n\",\"na\",\"ne\",\"néanmoins\",\"neuf\",\"neuvième\",\"ni\",\"nombreuses\",\"nombreux\",\"non\",\"nos\",\"notre\",\"nôtre\",\"nôtres\",\"nous\",\"nous-mêmes\",\"nul\",\"o\",\"o|\",\"ô\",\"oh\",\"ohé\",\"olé\",\"ollé\",\"on\",\"ont\",\"onze\",\"onzième\",\"ore\",\"ou\",\"où\",\"ouf\",\"ouias\",\"oust\",\"ouste\",\"outre\",\"p\",\"paf\",\"pan\",\"par\",\"parmi\",\"partant\",\"particulier\",\"particulière\",\"particulièrement\",\"pas\",\"passé\",\"pendant\",\"personne\",\"peu\",\"peut\",\"peuvent\",\"peux\",\"pff\",\"pfft\",\"pfut\",\"pif\",\"plein\",\"plouf\",\"plus\",\"plusieurs\",\"plutôt\",\"pouah\",\"pour\",\"pourquoi\",\"premier\",\"première\",\"premièrement\",\"près\",\"proche\",\"psitt\",\"puisque\",\"q\",\"qu\",\"quand\",\"quant\",\"quanta\",\"quant-à-soi\",\"quarante\",\"quatorze\",\"quatre\",\"quatre-vingt\",\"quatrième\",\"quatrièmement\",\"que\",\"quel\",\"quelconque\",\"quelle\",\"quelles\",\"quelque\",\"quelques\",\"quelqu'un\",\"quels\",\"qui\",\"quiconque\",\"quinze\",\"quoi\",\"quoique\",\"r\",\"revoici\",\"revoilà\",\"rien\",\"s\",\"sa\",\"sacrebleu\",\"sans\",\"sapristi\",\"sauf\",\"se\",\"seize\",\"selon\",\"sept\",\"septième\",\"sera\",\"seront\",\"ses\",\"si\",\"sien\",\"sienne\",\"siennes\",\"siens\",\"sinon\",\"six\",\"sixième\",\"soi\",\"soi-même\",\"soit\",\"soixante\",\"son\",\"sont\",\"sous\",\"stop\",\"suis\",\"suivant\",\"sur\",\"surtout\",\"t\",\"ta\",\"tac\",\"tant\",\"te\",\"té\",\"tel\",\"telle\",\"tellement\",\"telles\",\"tels\",\"tenant\",\"tes\",\"tic\",\"tien\",\"tienne\",\"tiennes\",\"tiens\",\"toc\",\"toi\",\"toi-même\",\"ton\",\"touchant\",\"toujours\",\"tous\",\"tout\",\"toute\",\"toutes\",\"treize\",\"trente\",\"très\",\"trois\",\"troisième\",\"troisièmement\",\"trop\",\"tsoin\",\"tsouin\",\"tu\",\"u\",\"un\",\"une\",\"unes\",\"uns\",\"v\",\"va\",\"vais\",\"vas\",\"vé\",\"vers\",\"via\",\"vif\",\"vifs\",\"vingt\",\"vivat\",\"vive\",\"vives\",\"vlan\",\"voici\",\"voilà\",\"vont\",\"vos\",\"votre\",\"vôtre\",\"vôtres\",\"vous\",\"vous-mêmes\",\"vu\",\"w\",\"x\",\"y\",\"z\",\"zut\",\"alors\",\"aucuns\",\"bon\",\"devrait\",\"dos\",\"droite\",\"début\",\"essai\",\"faites\",\"fois\",\"force\",\"haut\",\"ici\",\"juste\",\"maintenant\",\"mine\",\"mot\",\"nommés\",\"nouveaux\",\"parce\",\"parole\",\"personnes\",\"pièce\",\"plupart\",\"seulement\",\"soyez\",\"sujet\",\"tandis\",\"valeur\",\"voie\",\"voient\",\"état\",\"étions\"]"
   ]
  },
  {
   "cell_type": "code",
   "execution_count": 14,
   "id": "22241273",
   "metadata": {},
   "outputs": [],
   "source": [
    "cleaned_df_en=StopWordsRemover(inputCol=\"text_token\", outputCol=\"text_cleaned\")\n",
    "df_en_cleaned=cleaned_df_en.transform(token_df_en)"
   ]
  },
  {
   "cell_type": "code",
   "execution_count": 15,
   "id": "32e17ed8",
   "metadata": {},
   "outputs": [],
   "source": [
    "cleaned_df_fr=StopWordsRemover(stopWords=stop_word_fr,inputCol=\"text_token\", outputCol=\"text_cleaned\")\n",
    "df_fr_cleaned=cleaned_df_fr.transform(token_df_fr)"
   ]
  },
  {
   "cell_type": "code",
   "execution_count": 38,
   "id": "e2017362",
   "metadata": {},
   "outputs": [
    {
     "name": "stdout",
     "output_type": "stream",
     "text": [
      "+--------------------+-----+--------------------+--------------------+\n",
      "|                text|label|          text_token|        text_cleaned|\n",
      "+--------------------+-----+--------------------+--------------------+\n",
      "|Reprise de la ses...|    0|[reprise, de, la,...|  [reprise, session]|\n",
      "|Je déclare repris...|    0|[je, déclare, rep...|[déclare, reprise...|\n",
      "|\"Comme vous avez ...|    0|[\"comme, vous, av...|[\"comme, pu, cons...|\n",
      "|Vous avez souhait...|    0|[vous, avez, souh...|[souhaité, débat,...|\n",
      "|En attendant, je ...|    0|[en, attendant,, ...|[attendant,, souh...|\n",
      "|Je vous invite à ...|    0|[je, vous, invite...|[invite, lever, m...|\n",
      "|(Le Parlement, de...|    0|[(le, parlement,,...|[(le, parlement,,...|\n",
      "|Madame la Préside...|    0|[madame, la, prés...|[madame, présiden...|\n",
      "|Vous avez probabl...|    0|[vous, avez, prob...|[probablement, ap...|\n",
      "|L'une des personn...|    0|[l'une, des, pers...|[l'une, vient, d'...|\n",
      "|Ne pensez-vous pa...|    0|[ne, pensez-vous,...|[pensez-vous, pas...|\n",
      "|Oui, Monsieur Eva...|    0|[oui,, monsieur, ...|[oui,, monsieur, ...|\n",
      "|Si l'Assemblée en...|    0|[si, l'assemblée,...|[l'assemblée, d'a...|\n",
      "|Madame la Préside...|    0|[madame, la, prés...|[madame, présiden...|\n",
      "|Je voudrais vous ...|    0|[je, voudrais, vo...|[voudrais, demand...|\n",
      "|Ma question porte...|    0|[ma, question, po...|[question, porte,...|\n",
      "|Le paragraphe 6 d...|    0|[le, paragraphe, ...|[paragraphe, 6, r...|\n",
      "|Il précise que ce...|    0|[il, précise, que...|[précise, princip...|\n",
      "|À mon sens, le pr...|    0|[à, mon, sens,, l...|[sens,, principe,...|\n",
      "|Je voudrais savoi...|    0|[je, voudrais, sa...|[voudrais, savoir...|\n",
      "+--------------------+-----+--------------------+--------------------+\n",
      "only showing top 20 rows\n",
      "\n"
     ]
    }
   ],
   "source": [
    "df_fr_cleaned.show()"
   ]
  },
  {
   "cell_type": "code",
   "execution_count": 16,
   "id": "81e0e836",
   "metadata": {},
   "outputs": [],
   "source": [
    "#on divise le dataframe francais en ensemble de \n",
    "train_fr,test_fr = df_fr_cleaned.randomSplit([0.8,0.2])\n",
    "train_en,test_en = df_en_cleaned.randomSplit([0.8,0.2])"
   ]
  },
  {
   "cell_type": "code",
   "execution_count": 17,
   "id": "0cd0d61b",
   "metadata": {},
   "outputs": [],
   "source": [
    "#concatener les 2 dataframes d'entrainement\n",
    "train= train_fr.union(train_en)"
   ]
  },
  {
   "cell_type": "code",
   "execution_count": 18,
   "id": "e692d9ef",
   "metadata": {},
   "outputs": [],
   "source": [
    "#concatener les 2 dataframes de test\n",
    "test= test_fr.union(test_en)"
   ]
  },
  {
   "cell_type": "code",
   "execution_count": 19,
   "id": "c6aff10e",
   "metadata": {},
   "outputs": [],
   "source": [
    "train = train.withColumn(\"label\",train[\"label\"].cast(IntegerType()))\n",
    "test = test.withColumn(\"label\",test[\"label\"].cast(IntegerType()))"
   ]
  },
  {
   "cell_type": "code",
   "execution_count": 20,
   "id": "7274dfe9",
   "metadata": {},
   "outputs": [],
   "source": [
    "ngram=NGram(n=2, inputCol=\"text_cleaned\", outputCol=\"text_ngram\")\n",
    "ngram_train=ngram.transform(train)"
   ]
  },
  {
   "cell_type": "code",
   "execution_count": 21,
   "id": "d8dd0fce",
   "metadata": {},
   "outputs": [],
   "source": [
    "ngram=NGram(n=2, inputCol=\"text_cleaned\", outputCol=\"text_ngram\")\n",
    "ngram_test=ngram.transform(test)"
   ]
  },
  {
   "cell_type": "code",
   "execution_count": 22,
   "id": "17822a75",
   "metadata": {},
   "outputs": [],
   "source": [
    "\n",
    "hashingtf_train=HashingTF(inputCol=\"text_ngram\", outputCol=\"text_hashing\")\n",
    "hashingtf_train.setNumFeatures(10000)\n",
    "train_hash=hashingtf_train.transform(ngram_train)"
   ]
  },
  {
   "cell_type": "code",
   "execution_count": 23,
   "id": "220241c1",
   "metadata": {},
   "outputs": [],
   "source": [
    "hashingtf_test=HashingTF(inputCol=\"text_ngram\", outputCol=\"text_hashing\")\n",
    "hashingtf_test.setNumFeatures(10000)\n",
    "test_hash=hashingtf_test.transform(ngram_test)"
   ]
  },
  {
   "cell_type": "code",
   "execution_count": 24,
   "id": "084570f9",
   "metadata": {},
   "outputs": [],
   "source": [
    "idf_train = IDF(minDocFreq = 3, inputCol=\"text_hashing\", outputCol=\"text_idf\")\n",
    "Model_train= idf_train.fit(train_hash)\n",
    "train_idf = Model_train.transform(train_hash)"
   ]
  },
  {
   "cell_type": "code",
   "execution_count": 25,
   "id": "b0b2a887",
   "metadata": {},
   "outputs": [],
   "source": [
    "idf_test = IDF(minDocFreq = 3, inputCol=\"text_hashing\", outputCol=\"text_idf\")\n",
    "Model_test = idf_test.fit(test_hash)\n",
    "test_idf = Model_test.transform(test_hash)"
   ]
  },
  {
   "cell_type": "code",
   "execution_count": 26,
   "id": "e9e93755",
   "metadata": {},
   "outputs": [],
   "source": [
    "train_final=train_idf.select(\"label\",\"text_idf\")\n",
    "test_final=test_idf.select(\"label\",\"text_idf\")"
   ]
  },
  {
   "cell_type": "code",
   "execution_count": 27,
   "id": "a27cd9f7",
   "metadata": {},
   "outputs": [],
   "source": [
    "lr = LogisticRegression(featuresCol=\"text_idf\", labelCol=\"label\")"
   ]
  },
  {
   "cell_type": "code",
   "execution_count": 28,
   "id": "2cfffe0d",
   "metadata": {},
   "outputs": [],
   "source": [
    "training=lr.fit(train_final)"
   ]
  },
  {
   "cell_type": "code",
   "execution_count": 29,
   "id": "049aafed",
   "metadata": {},
   "outputs": [],
   "source": [
    "model_result=training.transform(test_final)"
   ]
  },
  {
   "cell_type": "code",
   "execution_count": 30,
   "id": "28d6396f",
   "metadata": {},
   "outputs": [],
   "source": [
    "evaluator=BinaryClassificationEvaluator(rawPredictionCol=\"rawPrediction\",labelCol=\"label\", metricName=\"areaUnderPR\")"
   ]
  },
  {
   "cell_type": "code",
   "execution_count": 31,
   "id": "6249b74f",
   "metadata": {},
   "outputs": [
    {
     "data": {
      "text/plain": [
       "0.8212704389201342"
      ]
     },
     "execution_count": 31,
     "metadata": {},
     "output_type": "execute_result"
    }
   ],
   "source": [
    "evaluator.evaluate(model_result)"
   ]
  },
  {
   "cell_type": "code",
   "execution_count": null,
   "id": "87579c45",
   "metadata": {},
   "outputs": [],
   "source": []
  }
 ],
 "metadata": {
  "kernelspec": {
   "display_name": "Python 3",
   "language": "python",
   "name": "python3"
  },
  "language_info": {
   "codemirror_mode": {
    "name": "ipython",
    "version": 3
   },
   "file_extension": ".py",
   "mimetype": "text/x-python",
   "name": "python",
   "nbconvert_exporter": "python",
   "pygments_lexer": "ipython3",
   "version": "3.8.8"
  }
 },
 "nbformat": 4,
 "nbformat_minor": 5
}
