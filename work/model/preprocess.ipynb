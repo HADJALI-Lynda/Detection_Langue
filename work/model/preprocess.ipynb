{
 "cells": [
  {
   "cell_type": "code",
   "execution_count": 1,
   "id": "6c56d6c3",
   "metadata": {},
   "outputs": [],
   "source": [
    "import pandas as pd\n",
    "from pyspark.sql import SparkSession\n",
    "spark = SparkSession.builder.getOrCreate()"
   ]
  },
  {
   "cell_type": "code",
   "execution_count": 2,
   "id": "0f800357",
   "metadata": {},
   "outputs": [],
   "source": [
    "from pyspark.sql.functions import *\n",
    "from pyspark.sql.types import *\n",
    "import numpy as np\n",
    "from pyspark.sql.functions import col\n",
    "from pyspark.sql.functions import lit"
   ]
  },
  {
   "cell_type": "code",
   "execution_count": 3,
   "id": "ff94c266",
   "metadata": {},
   "outputs": [],
   "source": [
    "from pyspark.sql.types import IntegerType\n",
    "from pyspark.ml.feature import *"
   ]
  },
  {
   "cell_type": "code",
   "execution_count": 4,
   "id": "54001e10",
   "metadata": {},
   "outputs": [],
   "source": [
    "from pyspark.ml.feature import StopWordsRemover"
   ]
  },
  {
   "cell_type": "code",
   "execution_count": 5,
   "id": "71f6c4bd",
   "metadata": {},
   "outputs": [],
   "source": [
    "dataset1 =spark.read.format('csv').options(header=True, inferSchema=True).load(\"dataset.csv\")"
   ]
  },
  {
   "cell_type": "code",
   "execution_count": 6,
   "id": "3c104803",
   "metadata": {},
   "outputs": [],
   "source": [
    "df_en =dataset1.select(\"English\")\n",
    "df_en=df_en.dropna()"
   ]
  },
  {
   "cell_type": "code",
   "execution_count": 7,
   "id": "2a92a2a5",
   "metadata": {},
   "outputs": [],
   "source": [
    "df_fr =dataset1.select(\"French\")\n",
    "df_fr=df_fr.dropna()"
   ]
  },
  {
   "cell_type": "code",
   "execution_count": 8,
   "id": "ba412449",
   "metadata": {},
   "outputs": [],
   "source": [
    "data_eng = df_en.select(col(\"English\").alias(\"text\"))\n",
    "data_fr = df_fr.select(col(\"French\").alias(\"text\"))"
   ]
  },
  {
   "cell_type": "code",
   "execution_count": 9,
   "id": "1a15d8d7",
   "metadata": {},
   "outputs": [],
   "source": [
    "df_en= data_eng.withColumn(\"label\", lit(1))\n",
    "df_fr = data_fr.withColumn(\"label\", lit(0))"
   ]
  },
  {
   "cell_type": "code",
   "execution_count": 10,
   "id": "0aabcd26",
   "metadata": {},
   "outputs": [],
   "source": [
    "#on tokenise les deux ensembles\n",
    "tokenizer_df_en = Tokenizer(inputCol=\"text\", outputCol=\"text_token\") \n",
    "token_df_en=tokenizer_df_en.transform(df_en)"
   ]
  },
  {
   "cell_type": "code",
   "execution_count": 11,
   "id": "5801c14c",
   "metadata": {},
   "outputs": [],
   "source": [
    "tokenizer_df_fr = Tokenizer(inputCol=\"text\", outputCol=\"text_token\") \n",
    "token_df_fr=tokenizer_df_fr.transform(df_fr)"
   ]
  },
  {
   "cell_type": "code",
   "execution_count": 12,
   "id": "3cf715db",
   "metadata": {},
   "outputs": [
    {
     "name": "stderr",
     "output_type": "stream",
     "text": [
      "[nltk_data] Downloading package stopwords to /home/jovyan/nltk_data...\n",
      "[nltk_data]   Package stopwords is already up-to-date!\n"
     ]
    }
   ],
   "source": [
    "import nltk.corpus \n",
    "from nltk.corpus import stopwords\n",
    "nltk.download('stopwords')\n",
    "stopword_en= stopwords.words('english')"
   ]
  },
  {
   "cell_type": "code",
   "execution_count": 13,
   "id": "baccac05",
   "metadata": {},
   "outputs": [
    {
     "name": "stderr",
     "output_type": "stream",
     "text": [
      "[nltk_data] Downloading package stopwords to /home/jovyan/nltk_data...\n",
      "[nltk_data]   Package stopwords is already up-to-date!\n"
     ]
    }
   ],
   "source": [
    "nltk.download('stopwords')\n",
    "stopword_fr= stopwords.words('french')"
   ]
  },
  {
   "cell_type": "code",
   "execution_count": 14,
   "id": "9618da50",
   "metadata": {},
   "outputs": [],
   "source": [
    "cleaned_df_en=StopWordsRemover(stopWords=stopword_en, inputCol=\"text_token\", outputCol=\"text_cleaned\")\n",
    "df_en_cleaned=cleaned_df_en.transform(token_df_en)"
   ]
  },
  {
   "cell_type": "code",
   "execution_count": 15,
   "id": "097f7095",
   "metadata": {},
   "outputs": [],
   "source": [
    "cleaned_df_fr=StopWordsRemover(stopWords=stopword_fr,inputCol=\"text_token\", outputCol=\"text_cleaned\")\n",
    "df_fr_cleaned=cleaned_df_fr.transform(token_df_fr)"
   ]
  },
  {
   "cell_type": "code",
   "execution_count": 16,
   "id": "0bd07a83",
   "metadata": {},
   "outputs": [],
   "source": [
    "train_fr, test_fr = df_fr_cleaned.randomSplit([0.8,0.2])\n",
    "train_en, test_en = df_en_cleaned.randomSplit([0.8,0.2])"
   ]
  },
  {
   "cell_type": "code",
   "execution_count": 17,
   "id": "64300284",
   "metadata": {},
   "outputs": [],
   "source": [
    "#concatener les 2 dataframes d'entrainement\n",
    "train= train_fr.union(train_en)"
   ]
  },
  {
   "cell_type": "code",
   "execution_count": 18,
   "id": "45149ed5",
   "metadata": {},
   "outputs": [],
   "source": [
    "#concatener les 2 dataframes de test\n",
    "test= test_fr.union(test_en)"
   ]
  },
  {
   "cell_type": "code",
   "execution_count": 19,
   "id": "75c4a57a",
   "metadata": {},
   "outputs": [],
   "source": [
    "dataset= train.union(test)"
   ]
  },
  {
   "cell_type": "code",
   "execution_count": 20,
   "id": "b88a6dba",
   "metadata": {},
   "outputs": [],
   "source": [
    "dataset_final=dataset.drop(\"text_token\")"
   ]
  },
  {
   "cell_type": "code",
   "execution_count": 22,
   "id": "5a45e9dd",
   "metadata": {},
   "outputs": [],
   "source": [
    "dataset_final.write.mode('Overwrite').json(\"dataset_final.json\")"
   ]
  },
  {
   "cell_type": "code",
   "execution_count": null,
   "id": "46a9923a",
   "metadata": {},
   "outputs": [],
   "source": []
  }
 ],
 "metadata": {
  "kernelspec": {
   "display_name": "Python 3",
   "language": "python",
   "name": "python3"
  },
  "language_info": {
   "codemirror_mode": {
    "name": "ipython",
    "version": 3
   },
   "file_extension": ".py",
   "mimetype": "text/x-python",
   "name": "python",
   "nbconvert_exporter": "python",
   "pygments_lexer": "ipython3",
   "version": "3.8.8"
  }
 },
 "nbformat": 4,
 "nbformat_minor": 5
}
